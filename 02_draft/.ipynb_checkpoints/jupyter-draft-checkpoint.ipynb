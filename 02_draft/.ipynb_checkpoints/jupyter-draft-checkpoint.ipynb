{
 "cells": [
  {
   "cell_type": "markdown",
   "metadata": {},
   "source": [
    "# データベースチューニングを語る"
   ]
  },
  {
   "cell_type": "markdown",
   "metadata": {},
   "source": [
    "## 前置き\n",
    "\n",
    "- 本トークで出てくる言葉は、あまり信用しないでください\n",
    "- それっぽいあたかも定義されたかのような言葉が出てきますがほとんど私の経験則に基づく言葉です\n",
    "- 言葉自体は、私の言葉なので、意味は、信用しないでください\n",
    "- 書籍などから正しい言葉などを引用してないので、一般的な言葉では無い可能性ががあります\n",
    "- 一応、信用していい部分、悪い分をトークの途中で入れていきながら進めたいと思っています\n"
   ]
  },
  {
   "cell_type": "markdown",
   "metadata": {},
   "source": [
    "    　\n",
    "    　\n",
    "    　\n",
    "    　\n",
    "    　\n",
    "    　\n",
    "    　\n",
    "    　\n",
    "    　\n",
    "    　\n",
    "    　\n",
    "    　\n",
    "    　\n",
    "    　\n",
    "    　\n",
    "    　\n",
    "    　\n",
    "    　\n",
    "    　\n",
    "    　\n",
    "    　\n",
    "    　\n",
    "    　\n",
    "    　\n",
    "    　"
   ]
  },
  {
   "cell_type": "markdown",
   "metadata": {},
   "source": [
    "## アジェンダ\n",
    "\n",
    "### 主な内容\n",
    "- データベースのチューニング方法とその効果に関する、私の経験則に基づく検討結果です。\n",
    "\n",
    "### 話す順番\n",
    "1. データベースのチューニング方法の羅列\n",
    "2. 評価軸の整理\n",
    "3. 評価軸ごとの特色の検討\n",
    "4. 方法と評価軸の整理(まとめ)"
   ]
  },
  {
   "cell_type": "markdown",
   "metadata": {},
   "source": [
    "## データベースチューニング方法の羅列"
   ]
  },
  {
   "cell_type": "markdown",
   "metadata": {},
   "source": [
    "## 評価軸の整理\n"
   ]
  },
  {
   "cell_type": "markdown",
   "metadata": {},
   "source": [
    "## 評価軸ごとの特色\n"
   ]
  },
  {
   "cell_type": "markdown",
   "metadata": {},
   "source": [
    "## 方法と評価軸の整理(まとめ)\n"
   ]
  },
  {
   "cell_type": "markdown",
   "metadata": {},
   "source": [
    "    　\n"
   ]
  },
  {
   "cell_type": "markdown",
   "metadata": {},
   "source": [
    "    　\n"
   ]
  },
  {
   "cell_type": "markdown",
   "metadata": {},
   "source": [
    "## パワポに戻る"
   ]
  }
 ],
 "metadata": {
  "kernelspec": {
   "display_name": "Python 3",
   "language": "python",
   "name": "python3"
  },
  "language_info": {
   "codemirror_mode": {
    "name": "ipython",
    "version": 3
   },
   "file_extension": ".py",
   "mimetype": "text/x-python",
   "name": "python",
   "nbconvert_exporter": "python",
   "pygments_lexer": "ipython3",
   "version": "3.6.1"
  }
 },
 "nbformat": 4,
 "nbformat_minor": 2
}
