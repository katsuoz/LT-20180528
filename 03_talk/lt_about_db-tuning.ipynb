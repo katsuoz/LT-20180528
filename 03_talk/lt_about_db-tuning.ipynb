{
 "cells": [
  {
   "cell_type": "markdown",
   "metadata": {},
   "source": [
    "# データベースチューニングを語る"
   ]
  },
  {
   "cell_type": "markdown",
   "metadata": {},
   "source": [
    "## 前置き\n",
    "\n",
    "- 本トークで出てくる言葉は、あまり信用しないでください。\n",
    "- それっぽい言葉が、出てきますが、ほとんど私の経験則に基づく言葉です。\n",
    "- 言葉自体は、私の言葉なので、意味は、信用しないでください。\n",
    "- 書籍などから正しい言葉などを引用してないので、一般的な言葉では無い可能性ががあります。\n",
    "- 一応、信用していい部分、悪い分をトークの途中で入れていきながら進めたいと思っています。\n"
   ]
  },
  {
   "cell_type": "markdown",
   "metadata": {},
   "source": [
    "    　\n"
   ]
  },
  {
   "cell_type": "markdown",
   "metadata": {},
   "source": [
    "    　\n"
   ]
  },
  {
   "cell_type": "markdown",
   "metadata": {},
   "source": [
    "    　\n"
   ]
  },
  {
   "cell_type": "markdown",
   "metadata": {},
   "source": [
    "    　\n"
   ]
  },
  {
   "cell_type": "markdown",
   "metadata": {},
   "source": [
    "    　\n"
   ]
  },
  {
   "cell_type": "markdown",
   "metadata": {},
   "source": [
    "    　\n"
   ]
  },
  {
   "cell_type": "markdown",
   "metadata": {},
   "source": [
    "## お話すること\n",
    "\n",
    "### 主な内容\n",
    "- データベースのチューニング方法とその効果に関して、\n",
    "- 私の経験則に基づき、整理・検討してみた結果を、\n",
    "- お話してみたいと思います。\n",
    "\n",
    "### 話す順番\n",
    "1. データベースのチューニング方法の羅列\n",
    "2. 評価軸の整理\n",
    "3. コスト分類ごとの特色の検討\n",
    "4. 方法と評価軸の整理(まとめ)"
   ]
  },
  {
   "cell_type": "markdown",
   "metadata": {},
   "source": [
    "    　\n"
   ]
  },
  {
   "cell_type": "markdown",
   "metadata": {},
   "source": [
    "    　\n"
   ]
  },
  {
   "cell_type": "markdown",
   "metadata": {},
   "source": [
    "    　\n"
   ]
  },
  {
   "cell_type": "markdown",
   "metadata": {},
   "source": [
    "    　\n"
   ]
  },
  {
   "cell_type": "markdown",
   "metadata": {},
   "source": [
    "    　\n"
   ]
  },
  {
   "cell_type": "markdown",
   "metadata": {},
   "source": [
    "    　\n"
   ]
  },
  {
   "cell_type": "markdown",
   "metadata": {},
   "source": [
    "## 1. データベースチューニング方法の羅列\n",
    "\n",
    "\n",
    "- プログラム的な対応(カーソルループの廃止など)\n",
    "- 等価なSQLへの書き換え\n",
    "- ヒント文の追加\n",
    "- インデックス\n",
    "- ビューの実体化(オラクルで言うマテビュー)\n",
    "- パーティショニング\n",
    "- リードレプリカ\n",
    "- パラメータ変更(キャッシュサイズ調整、ファイルの分散配置、パラレル度調整、etc.)\n",
    "- ハードウェア増強(メモリ、CPU、I/O)\n",
    "\n",
    "\n",
    "\n",
    "** (順番にはあまり意味はない。なんとなく上のほうがアプリ寄り、下のほうがインフラ寄り) **\n",
    "\n"
   ]
  },
  {
   "cell_type": "markdown",
   "metadata": {},
   "source": [
    "    　\n"
   ]
  },
  {
   "cell_type": "markdown",
   "metadata": {},
   "source": [
    "    　\n"
   ]
  },
  {
   "cell_type": "markdown",
   "metadata": {},
   "source": [
    "    　\n"
   ]
  },
  {
   "cell_type": "markdown",
   "metadata": {},
   "source": [
    "    　\n"
   ]
  },
  {
   "cell_type": "markdown",
   "metadata": {},
   "source": [
    "    　\n"
   ]
  },
  {
   "cell_type": "markdown",
   "metadata": {},
   "source": [
    "    　\n"
   ]
  },
  {
   "cell_type": "markdown",
   "metadata": {},
   "source": [
    "## 2.評価軸の整理\n",
    "\n",
    "- 私は、(改めて考えてみるに)、\n",
    "- 基本的には、(直感的な)**<u>コスト対効果</u>**で、\n",
    "- 最適なチューニング方法を評価・選定している(してきた)ようです。\n",
    "\n"
   ]
  },
  {
   "cell_type": "markdown",
   "metadata": {},
   "source": [
    "    　\n"
   ]
  },
  {
   "cell_type": "markdown",
   "metadata": {},
   "source": [
    "    　\n"
   ]
  },
  {
   "cell_type": "markdown",
   "metadata": {},
   "source": [
    "    　\n"
   ]
  },
  {
   "cell_type": "markdown",
   "metadata": {},
   "source": [
    "    　\n"
   ]
  },
  {
   "cell_type": "markdown",
   "metadata": {},
   "source": [
    "### 効果とは?\n",
    "\n",
    "- 処理速度が向上すること、および、その向上度合い(どの程度向上するか)\n",
    "\n",
    "### コストとは?\n",
    "\n",
    "まず以下の３点に大別されるように思う。\n",
    "\n",
    "1. チューナーのコスト\n",
    "  - 主に、チューナーが調査・検証・効果測定する工数\n",
    "  - 要するに私が動くコスト\n",
    "2. **チューナー以外のコスト => 後述　**\n",
    "3. 管理コスト(主題から逸れるので無視する)\n",
    "\n"
   ]
  },
  {
   "cell_type": "markdown",
   "metadata": {},
   "source": [
    "    　\n"
   ]
  },
  {
   "cell_type": "markdown",
   "metadata": {},
   "source": [
    "    　\n"
   ]
  },
  {
   "cell_type": "markdown",
   "metadata": {},
   "source": [
    "    　\n"
   ]
  },
  {
   "cell_type": "markdown",
   "metadata": {},
   "source": [
    "    　\n"
   ]
  },
  {
   "cell_type": "markdown",
   "metadata": {},
   "source": [
    "    　\n"
   ]
  },
  {
   "cell_type": "markdown",
   "metadata": {},
   "source": [
    "    　\n"
   ]
  },
  {
   "cell_type": "markdown",
   "metadata": {},
   "source": [
    "    　\n"
   ]
  },
  {
   "cell_type": "markdown",
   "metadata": {},
   "source": [
    "## チューナー以外のコストとは?(コストの分類)\n",
    "\n",
    "- チューナーが、チューニング案を出したあと、本番の対応にかかるコストを指します。\n",
    "- たぶん、さらに以下の３つに分けられるように思います。\n",
    "\n",
    "\n",
    "1. アプリ変更コスト(おおむね、アプリエンジニアの工数のように思われる)\n",
    "  - 設計・実装・テスト作業(単体→結合→システム)\n",
    "  - 本番リリース作業\n",
    "  - リリース後の立会、結果報告\n",
    "  - etc.\n",
    "2. インフラ増強コスト\n",
    "  - そもそも増やせるのかの検討確認作業\n",
    "  - 増やすための設計・実装・テスト作業\n",
    "  - モノの料金(メモリ、CPU、I/O)\n",
    "  - コストだけでなく調達のためのリードタイムが必要(クラウドならゼロにできる)\n",
    "3. **ミドル(DBMS)変更コスト(パラメータ変更やパーティショニングなど)**　＝＞後述\n"
   ]
  },
  {
   "cell_type": "markdown",
   "metadata": {},
   "source": [
    "    　\n"
   ]
  },
  {
   "cell_type": "markdown",
   "metadata": {},
   "source": [
    "    　\n"
   ]
  },
  {
   "cell_type": "markdown",
   "metadata": {},
   "source": [
    "    　\n"
   ]
  },
  {
   "cell_type": "markdown",
   "metadata": {},
   "source": [
    "    　\n"
   ]
  },
  {
   "cell_type": "markdown",
   "metadata": {},
   "source": [
    "    　\n"
   ]
  },
  {
   "cell_type": "markdown",
   "metadata": {},
   "source": [
    "    　\n"
   ]
  },
  {
   "cell_type": "markdown",
   "metadata": {},
   "source": [
    "    　\n"
   ]
  },
  {
   "cell_type": "markdown",
   "metadata": {},
   "source": [
    "## チューナー以外のコストとは?(コストの分類：３つめ)\n",
    "\n",
    "### 3.**ミドル(DBMS)変更コスト(パラメータ変更やパーティショニングなど)**\n",
    "  - アプリ変更、インフラ増強の両方を伴いかねない(伴う場合が多い)\n",
    "  - たとえば\n",
    "    - パーティショニングするなら、パーティションキーの検討・設計が最低限必要。\n",
    "      - これは「アプリ視点」でないと、できない(ので、アプリ技術者が動く必要あり) \n",
    "      - 場合によってはパーティションをスライドさせるためのアプリが必要\n",
    "      - 物理的な分散配置のためのストレージ設計をインフラ技術者と詰めなければいけない\n",
    "\n"
   ]
  },
  {
   "cell_type": "markdown",
   "metadata": {},
   "source": [
    "    　\n"
   ]
  },
  {
   "cell_type": "markdown",
   "metadata": {},
   "source": [
    "    　\n"
   ]
  },
  {
   "cell_type": "markdown",
   "metadata": {},
   "source": [
    "    　\n"
   ]
  },
  {
   "cell_type": "markdown",
   "metadata": {},
   "source": [
    "    　\n"
   ]
  },
  {
   "cell_type": "markdown",
   "metadata": {},
   "source": [
    "    　\n"
   ]
  },
  {
   "cell_type": "markdown",
   "metadata": {},
   "source": [
    "    　\n"
   ]
  },
  {
   "cell_type": "markdown",
   "metadata": {},
   "source": [
    "## 3.コスト分類ごとの特色\n",
    "\n",
    "#### 1.アプリ変更の特色\n",
    "  - ○アプリ側だけのコスト負担や都合でなんとかなるような気がする。\n",
    "  - ○その意味では、打つ手としては、比較的、打ちやすい。\n",
    "  - ×一方で、コストやリードタイムが読みにくい、というリスクがある。\n",
    "  - ×また対応できる時間が限られている可能性がある\n",
    "    - プログラムをいじれるパートナーさんの契約期間とか.\n",
    "\n",
    "#### 2.インフラ増強の特色\n",
    "  - ○インフラ側だけのコスト負担や都合でなんとかなるような気がする。\n",
    "  - ○その意味では、打つ手としては、まあ一応、打ちやすい。\n",
    "  - ○そもそも、ちゃんとインフラ容量設計をやっていれば、安全率を十分にかけているので、増強の必要性が発生しにくい。\n",
    "  - ×一方で、リアルな料金が発生する。（増強の費用はたいてい顧客持ちなので、説明できないと行けない)\n",
    "  - ×調達のためのリードタイムが発生する。\n",
    "    - クラウドならゼロにできるが、長い目で見れば料金は高額になる\n",
    "  \n"
   ]
  },
  {
   "cell_type": "markdown",
   "metadata": {},
   "source": [
    "    　\n"
   ]
  },
  {
   "cell_type": "markdown",
   "metadata": {},
   "source": [
    "    　\n"
   ]
  },
  {
   "cell_type": "markdown",
   "metadata": {},
   "source": [
    "    　\n"
   ]
  },
  {
   "cell_type": "markdown",
   "metadata": {},
   "source": [
    "## コスト分類ごとの特色 3つめ\n",
    "\n",
    "#### 3.ミドル(DBMS)変更コスト\n",
    "  - アプリ変更、インフラ増強の両方を伴いかねない(伴う場合が多い)\n",
    "  - だから、できればチューニングでミドル変更はやりたくない\n",
    "  - **最初にきちんと評価・設計して決めておくことが大事**\n",
    "  - 最近のDBMSは「デフォルト設定」で大体なんとかなるくらいに賢い\n",
    "    - が、**思わぬ落とし穴には気をつけたい**\n",
    "      - 技術は進化?退化?変化?する\n",
    "      - DBA(ないしDA)の役割を持つ人(DBスペシャリスト)が、本当は、すべての開発プロジェクトにおいて必要なのではないだろうか。\n"
   ]
  },
  {
   "cell_type": "markdown",
   "metadata": {},
   "source": [
    "    　\n"
   ]
  },
  {
   "cell_type": "markdown",
   "metadata": {},
   "source": [
    "    　\n"
   ]
  },
  {
   "cell_type": "markdown",
   "metadata": {},
   "source": [
    "    　\n"
   ]
  },
  {
   "cell_type": "markdown",
   "metadata": {},
   "source": [
    "    　\n"
   ]
  },
  {
   "cell_type": "markdown",
   "metadata": {},
   "source": [
    "    　\n"
   ]
  },
  {
   "cell_type": "markdown",
   "metadata": {},
   "source": [
    "## 4.方法と評価軸の整理(まとめ)\n"
   ]
  },
  {
   "cell_type": "markdown",
   "metadata": {},
   "source": [
    "|チューニング方法|想定効果|コスト分類|動く人|想定コスト量|コスト対効果|\n",
    "|:----:|:----:|:----:|:----:|:----:|:----:|\n",
    "|プログラム的な対応|大|アプリ変更|アプリ|大|△|\n",
    "|等価なSQLへの書き換え|大|アプリ変更|アプリ+チューナー|中|○|\n",
    "|ヒント文の追加|中or大|チューナーのコスト|アプリ+チューナー|小|○|\n",
    "|インデックス|中or大|チューナーのコスト|チューナー|小|◎|\n",
    "|ビューの実体化|不明 うまく行けば大|ミドル変更|全|不明 大の方が無難|評価できず|\n",
    "|パーティショニング|不明 うまく行けば大|ミドル変更|全|不明 大の方が無難|評価できず|\n",
    "|リードレプリカ|不明 うまく行けば大|ミドル変更|全|不明 大の方が無難|評価できず|\n",
    "|パラメータ変更|不明 うまく行けば大|ミドル変更|インフラ+チューナー|中|△|\n",
    "|ハードウェア増強|小よくて中|ハードウェア増強|インフラ|中or大|△|\n",
    "\n",
    "\n",
    "全=アプリ、インフラ、ミドル、チューナー"
   ]
  },
  {
   "cell_type": "markdown",
   "metadata": {},
   "source": [
    "### 結論\n",
    "\n",
    "#### ミドル以下はきちんと設計しておきましょう。\n",
    "#### 特にミドル変更は、後でチューニングで、なんとかなるものでは、無い(と、考えといたほうが、無難)。\n"
   ]
  },
  {
   "cell_type": "markdown",
   "metadata": {},
   "source": [
    "    　\n"
   ]
  },
  {
   "cell_type": "markdown",
   "metadata": {},
   "source": [
    "    　\n"
   ]
  },
  {
   "cell_type": "markdown",
   "metadata": {},
   "source": [
    "## パワポに戻る"
   ]
  }
 ],
 "metadata": {
  "kernelspec": {
   "display_name": "Python 3",
   "language": "python",
   "name": "python3"
  },
  "language_info": {
   "codemirror_mode": {
    "name": "ipython",
    "version": 3
   },
   "file_extension": ".py",
   "mimetype": "text/x-python",
   "name": "python",
   "nbconvert_exporter": "python",
   "pygments_lexer": "ipython3",
   "version": "3.6.1"
  }
 },
 "nbformat": 4,
 "nbformat_minor": 2
}
